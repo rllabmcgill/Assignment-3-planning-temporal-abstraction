{
 "cells": [
  {
   "cell_type": "code",
   "execution_count": 9,
   "metadata": {
    "collapsed": true
   },
   "outputs": [],
   "source": [
    "from pycolab.examples.classics import blocking_maze\n",
    "from pycolab.examples.classics import shortcut_maze\n",
    "import numpy as np\n",
    "import matplotlib.pyplot as plt\n",
    "from pycolab.rendering import ObservationToFeatureArray\n",
    "import multiprocessing\n",
    "from collections import deque\n",
    "import math\n",
    "%matplotlib inline"
   ]
  },
  {
   "cell_type": "code",
   "execution_count": 10,
   "metadata": {
    "collapsed": true
   },
   "outputs": [],
   "source": [
    "envList = [blocking_maze,shortcut_maze]"
   ]
  },
  {
   "cell_type": "code",
   "execution_count": 3,
   "metadata": {
    "collapsed": false
   },
   "outputs": [],
   "source": [
    "def DynaQ(N,env_id, max_steps):\n",
    "    env = envList[env_id]\n",
    "    episode_step = deque()\n",
    "    max_steps= max_steps\n",
    "    epsilon = 0.2\n",
    "    alpha = 0.05\n",
    "    gamma = 0.95\n",
    "    game  = env.make_game()\n",
    "    Qs_a = np.zeros([game.rows*game.cols,4])\n",
    "    position = ObservationToFeatureArray(['!'])\n",
    "    obs_init, reward, _ = game.its_showtime(0)\n",
    "    pos = position(obs_init).flatten()\n",
    "    s_ini = np.where(pos == 1)[0][0]\n",
    "    replay_memory = deque()\n",
    "    all_rewards = deque()\n",
    "    model = {}\n",
    "    for steps in range(max_steps):\n",
    "        action = np.random.choice([np.random.choice(4),np.argmax(Qs_a[s_ini])], p=[epsilon,1-epsilon])\n",
    "        obs_new, reward,_ = game.play(action,steps)\n",
    "        all_rewards.append(reward)\n",
    "        reward -= 0.1\n",
    "        #reward += 0.001*math.sqrt(steps/2)\n",
    "        if game.game_over:\n",
    "            replay_memory.append((s_ini,action))\n",
    "            model[(s_ini, action)] = (reward, None)\n",
    "            Qs_a[s_ini,action] += alpha*(reward - Qs_a[s_ini,action])\n",
    "            game  = env.make_game()\n",
    "            position = ObservationToFeatureArray(['!'])\n",
    "            obs_init, reward, _ = game.its_showtime(0)\n",
    "            pos = position(obs_init).flatten()\n",
    "            s_ini = np.where(pos == 1.)[0][0]\n",
    "        else:\n",
    "            pos_new = position(obs_new).flatten()\n",
    "            s_next = np.where(pos_new == 1.)[0][0]\n",
    "            replay_memory.append((s_ini,action))\n",
    "            model[(s_ini, action)] = (reward, s_next)\n",
    "            Qs_a[s_ini,action] += alpha*(reward +gamma*np.max(Qs_a[s_next])- Qs_a[s_ini,action])\n",
    "            s_ini = s_next\n",
    "        for i in range(N):\n",
    "            s, a = replay_memory[np.random.choice(len(replay_memory))]\n",
    "            r, sprime = model[(s,a)]\n",
    "            if sprime is None:\n",
    "                Qs_a[s,a] += alpha*(r - Qs_a[s,a])\n",
    "            else:\n",
    "                Qs_a[s,a] += alpha*(r + gamma*np.max(Qs_a[sprime])- Qs_a[s,a])\n",
    "    return np.cumsum(all_rewards), model, Qs_a     "
   ]
  },
  {
   "cell_type": "markdown",
   "metadata": {},
   "source": [
    "## DynaQ for blocking maze"
   ]
  },
  {
   "cell_type": "code",
   "execution_count": 11,
   "metadata": {
    "collapsed": false
   },
   "outputs": [
    {
     "name": "stdout",
     "output_type": "stream",
     "text": [
      "CPU times: user 3.17 ms, sys: 2.79 ms, total: 5.96 ms\n",
      "Wall time: 1.83 s\n"
     ]
    }
   ],
   "source": [
    "max_steps = 3000\n",
    "N_array = [(0,0,max_steps) ,(5,0,max_steps) ,(20,0,max_steps)]\n",
    "with multiprocessing.Pool(4) as p:\n",
    "    %time res = p.starmap(DynaQ, N_array)"
   ]
  },
  {
   "cell_type": "code",
   "execution_count": 12,
   "metadata": {
    "collapsed": false
   },
   "outputs": [
    {
     "data": {
      "text/plain": [
       "<matplotlib.legend.Legend at 0x10f6b8780>"
      ]
     },
     "execution_count": 12,
     "metadata": {},
     "output_type": "execute_result"
    },
    {
     "data": {
      "image/png": "[encoded data removed]",
      "text/plain": [
       "<matplotlib.figure.Figure at 0x10f6b8588>"
      ]
     },
     "metadata": {},
     "output_type": "display_data"
    }
   ],
   "source": [
    "for j, r in enumerate(res):\n",
    "    plt.plot(r[0], label=N_array[j])\n",
    "plt.legend()"
   ]
  },
  {
   "cell_type": "markdown",
   "metadata": {},
   "source": [
    "## Dyna Q for shortcut maze "
   ]
  },
  {
   "cell_type": "code",
   "execution_count": 13,
   "metadata": {
    "collapsed": false
   },
   "outputs": [
    {
     "name": "stdout",
     "output_type": "stream",
     "text": [
      "CPU times: user 4.96 ms, sys: 3.2 ms, total: 8.16 ms\n",
      "Wall time: 3.73 s\n"
     ]
    }
   ],
   "source": [
    "steps = 6000\n",
    "N_array = [(0,1,steps) ,(5,1,steps) ,(20,1,steps)]\n",
    "with multiprocessing.Pool(4) as p:\n",
    "    %time res = p.starmap(DynaQ, N_array)"
   ]
  },
  {
   "cell_type": "code",
   "execution_count": 14,
   "metadata": {
    "collapsed": false
   },
   "outputs": [
    {
     "data": {
      "text/plain": [
       "<matplotlib.legend.Legend at 0x1100a0160>"
      ]
     },
     "execution_count": 14,
     "metadata": {},
     "output_type": "execute_result"
    },
    {
     "data": {
      "image/png": "[encoded data removed]",
      "text/plain": [
       "<matplotlib.figure.Figure at 0x1100a0748>"
      ]
     },
     "metadata": {},
     "output_type": "display_data"
    }
   ],
   "source": [
    "for j, r in enumerate(res):\n",
    "    plt.plot(r[0], label=N_array[j])\n",
    "plt.legend()"
   ]
  },
  {
   "cell_type": "code",
   "execution_count": null,
   "metadata": {
    "collapsed": true
   },
   "outputs": [],
   "source": []
  }
 ],
 "metadata": {
  "anaconda-cloud": {},
  "kernelspec": {
   "display_name": "Python [conda env:py3k]",
   "language": "python",
   "name": "conda-env-py3k-py"
  },
  "language_info": {
   "codemirror_mode": {
    "name": "ipython",
    "version": 3
   },
   "file_extension": ".py",
   "mimetype": "text/x-python",
   "name": "python",
   "nbconvert_exporter": "python",
   "pygments_lexer": "ipython3",
   "version": "3.5.2"
  }
 },
 "nbformat": 4,
 "nbformat_minor": 1
}
